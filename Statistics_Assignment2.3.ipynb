{
 "cells": [
  {
   "cell_type": "markdown",
   "metadata": {},
   "source": [
    "Problem:\n",
    "Two balls are drawn at random in succession without replacement from an urn\n",
    "containing 4 red balls and 6 black balls.\n",
    "Find the probabilities of all the possible outcomes.\n",
    "\n",
    "Solution:\n",
    "The probability of 0 blue balls = (4/10)(3/9) = 2/15\n",
    "The probability of 1 blue ball from RB =  (4/10)(6/9) = 4/15 \n",
    "The probability of 1 blue ball from BR =  (4/10)(6/9) = 4/15 \n",
    "The probability of 1 blue ball is (RB or BR) is 4/15+4/15 = 8/15\n",
    "The probability of 2 blue balls (BB) is 1/3\n",
    "\n",
    "sum of the probabilities = 2/15+8/15+1/3 = 1"
   ]
  }
 ],
 "metadata": {
  "kernelspec": {
   "display_name": "Python 3",
   "language": "python",
   "name": "python3"
  },
  "language_info": {
   "codemirror_mode": {
    "name": "ipython",
    "version": 3
   },
   "file_extension": ".py",
   "mimetype": "text/x-python",
   "name": "python",
   "nbconvert_exporter": "python",
   "pygments_lexer": "ipython3",
   "version": "3.6.4"
  }
 },
 "nbformat": 4,
 "nbformat_minor": 2
}
